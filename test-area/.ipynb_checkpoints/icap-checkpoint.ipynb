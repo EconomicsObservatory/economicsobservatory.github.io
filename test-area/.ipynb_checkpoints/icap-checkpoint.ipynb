{
 "cells": [
  {
   "cell_type": "code",
   "execution_count": 2,
   "id": "e84a0c87-18c5-49f6-bedf-0bcd4b8ae6e7",
   "metadata": {},
   "outputs": [],
   "source": [
    "import pandas as pd"
   ]
  },
  {
   "cell_type": "code",
   "execution_count": 38,
   "id": "d4032084-815c-476f-b07d-af83e5b99906",
   "metadata": {},
   "outputs": [],
   "source": [
    "df0=pd.read_excel('icap-graph-data-19-03-2019_comma.xlsx')"
   ]
  },
  {
   "cell_type": "code",
   "execution_count": 39,
   "id": "7560211d-d7d3-45eb-898a-2c85bbbcac14",
   "metadata": {},
   "outputs": [],
   "source": [
    "df=df0[:4].ffill(axis=1).T.astype(str)"
   ]
  },
  {
   "cell_type": "code",
   "execution_count": 40,
   "id": "a4dd4c06-b337-41cd-bd67-9794fa2a1a8c",
   "metadata": {},
   "outputs": [],
   "source": [
    "df['index']=df[0]+'#'+df[1]+'#'+df[2]+'#'+df[3]"
   ]
  },
  {
   "cell_type": "code",
   "execution_count": 41,
   "id": "4b5c6579-2399-4189-9547-572090b6da23",
   "metadata": {},
   "outputs": [],
   "source": [
    "df0.columns=df['index'].values"
   ]
  },
  {
   "cell_type": "code",
   "execution_count": 43,
   "id": "30ddaf58-8b01-4fc7-a05f-69686d7edabf",
   "metadata": {},
   "outputs": [],
   "source": [
    "df0[4:].to_csv('icap-graph-data-19-03-2019_export.csv')"
   ]
  }
 ],
 "metadata": {
  "kernelspec": {
   "display_name": "Python 3",
   "language": "python",
   "name": "python3"
  },
  "language_info": {
   "codemirror_mode": {
    "name": "ipython",
    "version": 3
   },
   "file_extension": ".py",
   "mimetype": "text/x-python",
   "name": "python",
   "nbconvert_exporter": "python",
   "pygments_lexer": "ipython3",
   "version": "3.8.8"
  }
 },
 "nbformat": 4,
 "nbformat_minor": 5
}
